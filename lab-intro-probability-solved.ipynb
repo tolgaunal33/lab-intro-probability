{
 "cells": [
  {
   "cell_type": "markdown",
   "metadata": {},
   "source": [
    "# Lab | Intro to Probability"
   ]
  },
  {
   "cell_type": "markdown",
   "metadata": {},
   "source": [
    "**Objective**\n",
    "\n",
    "Welcome to this Intro to Probability lab, where we explore decision-making scenarios through the lens of probability and strategic analysis. In the business world, making informed decisions is crucial, especially when faced with uncertainties. This lab focuses on scenarios where probabilistic outcomes play a significant role in shaping strategies and outcomes. Students will engage in exercises that require assessing and choosing optimal paths based on data-driven insights. The goal is to enhance your skills by applying probability concepts to solve real-world problems."
   ]
  },
  {
   "cell_type": "markdown",
   "metadata": {},
   "source": [
    "**Challenge 1**"
   ]
  },
  {
   "cell_type": "markdown",
   "metadata": {},
   "source": [
    "#### Ironhack Airlines \n",
    "\n",
    "Often Airlines sell more tickets than they have seats available, this is called overbooking. Consider the following:\n",
    "- A plane has 450 seats. \n",
    "- Based on historical data we conclude that each individual passenger has a 3% chance of missing it's flight. \n",
    "\n",
    "If the Ironhack Airlines routinely sells 460 tickets, what is the chance that they have a seats for all passenger?"
   ]
  },
  {
   "cell_type": "code",
   "execution_count": 1,
   "metadata": {},
   "outputs": [
    {
     "name": "stdout",
     "output_type": "stream",
     "text": [
      "The probability that all passengers have a seat is: 0.8845\n"
     ]
    }
   ],
   "source": [
    "from scipy.stats import binom\n",
    "\n",
    "# Parameters\n",
    "n = 460  # Number of tickets sold\n",
    "p = 0.97  # Probability that a passenger shows up\n",
    "\n",
    "# Calculate P(X <= 450)\n",
    "probability = binom.cdf(450, n, p)\n",
    "\n",
    "print(f\"The probability that all passengers have a seat is: {probability:.4f}\")"
   ]
  },
  {
   "cell_type": "markdown",
   "metadata": {},
   "source": [
    "**Challenge 2**"
   ]
  },
  {
   "cell_type": "markdown",
   "metadata": {},
   "source": [
    "#### Ironhack Call Center "
   ]
  },
  {
   "cell_type": "markdown",
   "metadata": {},
   "source": [
    "Suppose a customer service representative at a call center is handling customer complaints. Consider the following:\n",
    "- The probability of successfully resolving a customer complaint on the first attempt is 0.3. \n",
    "\n",
    "\n",
    "What is the probability that the representative needs to make at least three attempts before successfully resolving a customer complaint?"
   ]
  },
  {
   "cell_type": "code",
   "execution_count": 2,
   "metadata": {},
   "outputs": [
    {
     "name": "stdout",
     "output_type": "stream",
     "text": [
      "The probability that at least 3 attempts are needed is: 0.4900\n"
     ]
    }
   ],
   "source": [
    "# Probability of success on a single attempt\n",
    "p = 0.3\n",
    "\n",
    "# Probability of needing at least 3 attempts\n",
    "probability = (1 - p) ** 2\n",
    "\n",
    "print(f\"The probability that at least 3 attempts are needed is: {probability:.4f}\")"
   ]
  },
  {
   "cell_type": "markdown",
   "metadata": {},
   "source": [
    "**Challenge 3**"
   ]
  },
  {
   "cell_type": "markdown",
   "metadata": {},
   "source": [
    "#### Ironhack Website"
   ]
  },
  {
   "cell_type": "markdown",
   "metadata": {},
   "source": [
    "Consider a scenario related to Ironhack website traffic. Where:\n",
    "- our website takes on average 500 visits per hour.\n",
    "- the website's server is designed to handle up to 550 vists per hour.\n",
    "\n",
    "\n",
    "What is the probability of the website server being overwhelmed?"
   ]
  },
  {
   "cell_type": "code",
   "execution_count": 3,
   "metadata": {},
   "outputs": [
    {
     "name": "stdout",
     "output_type": "stream",
     "text": [
      "The probability of the server being overwhelmed is: 0.0129\n"
     ]
    }
   ],
   "source": [
    "from scipy.stats import poisson\n",
    "\n",
    "# Parameters\n",
    "lambda_ = 500  # Average number of visits per hour\n",
    "capacity = 550  # Server capacity\n",
    "\n",
    "# Calculate P(X > 550) = 1 - P(X <= 550)\n",
    "probability = 1 - poisson.cdf(capacity, lambda_)\n",
    "\n",
    "print(f\"The probability of the server being overwhelmed is: {probability:.4f}\")"
   ]
  },
  {
   "cell_type": "markdown",
   "metadata": {},
   "source": [
    "What is the probability of being overwhelmed at some point during a day? (consider 24hours)"
   ]
  },
  {
   "cell_type": "code",
   "execution_count": 4,
   "metadata": {},
   "outputs": [
    {
     "name": "stdout",
     "output_type": "stream",
     "text": [
      "The probability of being overwhelmed at least once in 24 hours is: 0.267704\n"
     ]
    }
   ],
   "source": [
    "# Parameters\n",
    "lambda_ = 500  # Average number of visits per hour\n",
    "capacity = 550  # Server capacity\n",
    "hours = 24  # Number of hours in a day\n",
    "\n",
    "# Probability of not being overwhelmed in one hour\n",
    "p_not_overwhelmed_one_hour = poisson.cdf(capacity, lambda_)\n",
    "\n",
    "# Probability of not being overwhelmed in 24 hours\n",
    "p_not_overwhelmed_24_hours = p_not_overwhelmed_one_hour ** hours\n",
    "\n",
    "# Probability of being overwhelmed at least once in 24 hours\n",
    "p_overwhelmed_at_least_once = 1 - p_not_overwhelmed_24_hours\n",
    "\n",
    "print(f\"The probability of being overwhelmed at least once in 24 hours is: {p_overwhelmed_at_least_once:.6f}\")"
   ]
  },
  {
   "cell_type": "markdown",
   "metadata": {},
   "source": [
    "**Challenge 4**"
   ]
  },
  {
   "cell_type": "markdown",
   "metadata": {},
   "source": [
    "#### Ironhack Helpdesk"
   ]
  },
  {
   "cell_type": "markdown",
   "metadata": {},
   "source": [
    "Consider a scenario related to the time between arrivals of customers at a service desk.\n",
    "\n",
    "On average, a customers arrives every 10minutes.\n",
    "\n",
    "What is the probability that the next customer will arrive within the next 5 minutes?"
   ]
  },
  {
   "cell_type": "code",
   "execution_count": 5,
   "metadata": {},
   "outputs": [
    {
     "name": "stdout",
     "output_type": "stream",
     "text": [
      "The probability that the next customer arrives within 5 minutes is: 0.3935\n"
     ]
    }
   ],
   "source": [
    "from math import exp\n",
    "\n",
    "# Parameters\n",
    "lambda_ = 0.1  # Rate parameter (arrivals per minute)\n",
    "t = 5  # Time in minutes\n",
    "\n",
    "# Calculate P(T <= 5)\n",
    "probability = 1 - exp(-lambda_ * t)\n",
    "\n",
    "print(f\"The probability that the next customer arrives within 5 minutes is: {probability:.4f}\")"
   ]
  },
  {
   "cell_type": "markdown",
   "metadata": {},
   "source": [
    "If there is no customer for 15minutes, employees can that a 5minutes break.\n",
    "\n",
    "What is the probability an employee taking a break?"
   ]
  },
  {
   "cell_type": "code",
   "execution_count": 6,
   "metadata": {},
   "outputs": [
    {
     "name": "stdout",
     "output_type": "stream",
     "text": [
      "The probability of no customer arriving for 15 minutes is: 0.2231\n"
     ]
    }
   ],
   "source": [
    "# Parameters\n",
    "lambda_ = 0.1  # Rate parameter (arrivals per minute)\n",
    "t = 15  # Time in minutes\n",
    "\n",
    "# Calculate P(T > 15)\n",
    "probability = exp(-lambda_ * t)\n",
    "\n",
    "print(f\"The probability of no customer arriving for 15 minutes is: {probability:.4f}\")"
   ]
  },
  {
   "cell_type": "markdown",
   "metadata": {},
   "source": [
    "**Challenge 5**"
   ]
  },
  {
   "cell_type": "markdown",
   "metadata": {},
   "source": [
    "The weights of a certain species of birds follow a normal distribution with a mean weight of 150 grams and a standard deviation of 10 grams. \n",
    "\n",
    "- If we randomly select a bird, what is the probability that its weight is between 140 and 160 grams?"
   ]
  },
  {
   "cell_type": "code",
   "execution_count": 7,
   "metadata": {},
   "outputs": [
    {
     "name": "stdout",
     "output_type": "stream",
     "text": [
      "Probability that a randomly selected bird weighs between 140g and 160g: 0.6827\n"
     ]
    }
   ],
   "source": [
    "from scipy.stats import norm\n",
    "\n",
    "# Given data\n",
    "mean_weight = 150  # Mean (μ)\n",
    "std_dev = 10       # Standard deviation (σ)\n",
    "\n",
    "# Define the range\n",
    "lower_bound = 140\n",
    "upper_bound = 160\n",
    "\n",
    "# Compute the probabilities using the cumulative distribution function (CDF)\n",
    "probability = norm.cdf(upper_bound, mean_weight, std_dev) - norm.cdf(lower_bound, mean_weight, std_dev)\n",
    "\n",
    "# Print the result\n",
    "print(f\"Probability that a randomly selected bird weighs between {lower_bound}g and {upper_bound}g: {probability:.4f}\")\n"
   ]
  },
  {
   "cell_type": "markdown",
   "metadata": {},
   "source": [
    "**Challenge 6**"
   ]
  },
  {
   "cell_type": "markdown",
   "metadata": {},
   "source": [
    "If the lifetime (in hours) of a certain electronic component follows an exponential distribution with a mean lifetime of 50 hours, what is the probability that the component fails within the first 30 hours?"
   ]
  },
  {
   "cell_type": "code",
   "execution_count": 8,
   "metadata": {},
   "outputs": [
    {
     "name": "stdout",
     "output_type": "stream",
     "text": [
      "Probability that the component fails within the first 30 hours: 0.4512\n"
     ]
    }
   ],
   "source": [
    "from scipy.stats import expon\n",
    "\n",
    "# Given data\n",
    "mean_lifetime = 50  # Mean lifetime in hours\n",
    "x = 30  # Time at which we check for failure\n",
    "\n",
    "# Compute the probability using CDF\n",
    "probability = expon.cdf(x, scale=mean_lifetime)\n",
    "\n",
    "# Print the result\n",
    "print(f\"Probability that the component fails within the first {x} hours: {probability:.4f}\")\n"
   ]
  },
  {
   "cell_type": "code",
   "execution_count": null,
   "metadata": {},
   "outputs": [],
   "source": []
  }
 ],
 "metadata": {
  "kernelspec": {
   "display_name": "base",
   "language": "python",
   "name": "python3"
  },
  "language_info": {
   "codemirror_mode": {
    "name": "ipython",
    "version": 3
   },
   "file_extension": ".py",
   "mimetype": "text/x-python",
   "name": "python",
   "nbconvert_exporter": "python",
   "pygments_lexer": "ipython3",
   "version": "3.12.4"
  }
 },
 "nbformat": 4,
 "nbformat_minor": 2
}
